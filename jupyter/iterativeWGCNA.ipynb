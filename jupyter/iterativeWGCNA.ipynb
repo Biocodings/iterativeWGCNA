{
 "cells": [
  {
   "cell_type": "markdown",
   "metadata": {},
   "source": [
    "# iterativeWGCNA\n",
    "---\n",
    "\n",
    "iterativeWGCNA on a compact dataset..."
   ]
  },
  {
   "cell_type": "markdown",
   "metadata": {},
   "source": [
    "## System Configuration"
   ]
  },
  {
   "cell_type": "code",
   "execution_count": null,
   "metadata": {
    "collapsed": false
   },
   "outputs": [],
   "source": [
    "# path issue with jupyter vs python for installed modules\n",
    "# fix - https://www.lucypark.kr/blog/2013/02/10/when-python-imports-and-ipython-does-not/\n",
    "import sys, pprint\n",
    "sys.path.append('\\Programs\\Anaconda2\\envs\\iterativeWGCNA\\Lib\\site-packages')\n",
    "pprint.pprint(sys.path)"
   ]
  },
  {
   "cell_type": "markdown",
   "metadata": {},
   "source": [
    "## Set up iterativeWGCNA parameters"
   ]
  },
  {
   "cell_type": "code",
   "execution_count": null,
   "metadata": {
    "collapsed": false
   },
   "outputs": [],
   "source": [
    "import os\n",
    "\n",
    "# Create output directory\n",
    "output_dir = \"output_iterativeWGCNA\"\n",
    "print \"LOG -- Set output directory to './\" + output_dir + \"/'\"\n",
    "\n",
    "if not os.path.exists(output_dir):\n",
    "    os.makedirs(output_dir)\n",
    "    \n",
    "# Identify data file\n",
    "dataFile = \"c:\\projects\\iterativeWGCNA\\jupyter\\DREAM5_GeneExpressionNetwork1SilicoData_t.tsv\"\n",
    "print \"LOG -- Set gene expression data file to'\" + dataFile + \"'\"\n",
    "\n",
    "# Set WGCNA parameters\n",
    "wgcnaParameters = \"\"\"\n",
    "    randomSeed=1234875,\n",
    "    maxBlockSize=16000,\n",
    "    minCoreKME=0.85,\n",
    "    minModuleSize=20,\n",
    "    minCoreKMESize=15,\n",
    "    minKMEtoStay=0.85,\n",
    "    deepSplit=0,\n",
    "    TOMType=signed,\n",
    "    networkType=signed,\n",
    "    power=6\"\"\"\n",
    "    \n",
    "wgcnaParameters = ''.join(wgcnaParameters.split())\n",
    "print \"LOG -- Set WGCNA parameters to '\" + wgcnaParameters + \"'\"\n",
    "\n"
   ]
  },
  {
   "cell_type": "markdown",
   "metadata": {},
   "source": [
    "## Run iterativeWGCNA\n",
    "\n",
    "Make sure that the output directory is empty. If the program exits with a message like `Working Directory: output_iterativeWGCNA contains output from a prior run of iterativeWGCNA.  Exiting...`, then (re)move the folder.\n",
    "\n",
    "Note that this notebook runs iterativeWGCNA directly through the script and not via the installed module."
   ]
  },
  {
   "cell_type": "code",
   "execution_count": null,
   "metadata": {
    "collapsed": false
   },
   "outputs": [],
   "source": [
    "!python  c:\\\\projects\\\\iterativeWGCNA\\\\run_iterative_wgcna.py \\\n",
    "-i $dataFile \\\n",
    "-o $output_dir \\\n",
    "-v \\\n",
    "--enableWGCNAThreads \\\n",
    "--wgcnaParameters $wgcnaParameters"
   ]
  },
  {
   "cell_type": "markdown",
   "metadata": {},
   "source": [
    "## Output\n",
    "\n",
    "Generate list of output files."
   ]
  },
  {
   "cell_type": "code",
   "execution_count": null,
   "metadata": {
    "collapsed": false
   },
   "outputs": [],
   "source": [
    "import glob\n",
    "dirList = glob.glob(output_dir + \"/*.*\")\n",
    "for d in dirList:\n",
    "    print(d)"
   ]
  }
 ],
 "metadata": {
  "kernelspec": {
   "display_name": "Python 2",
   "language": "python",
   "name": "python2"
  },
  "language_info": {
   "codemirror_mode": {
    "name": "ipython",
    "version": 2
   },
   "file_extension": ".py",
   "mimetype": "text/x-python",
   "name": "python",
   "nbconvert_exporter": "python",
   "pygments_lexer": "ipython2",
   "version": "2.7.13"
  }
 },
 "nbformat": 4,
 "nbformat_minor": 2
}
