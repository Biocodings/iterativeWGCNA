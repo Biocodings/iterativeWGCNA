{
 "cells": [
  {
   "cell_type": "markdown",
   "metadata": {},
   "source": [
    "# WGCNA\n",
    "---\n",
    "\n",
    "Standard WGCNA on a compact dataset...\n"
   ]
  },
  {
   "cell_type": "markdown",
   "metadata": {},
   "source": [
    "## Install WGCNA\n",
    "If you already have WGCNA installed on your system, then un-comment and execute the following lines:"
   ]
  },
  {
   "cell_type": "code",
   "execution_count": null,
   "metadata": {
    "collapsed": false
   },
   "outputs": [],
   "source": [
    "#source(\"http://bioconductor.org/biocLite.R\") \n",
    "#biocLite(c(\"AnnotationDbi\", \"impute\", \"GO.db\", \"preprocessCore\")) \n",
    "#install.packages('WGCNA', repos='http://cran.us.r-project.org')"
   ]
  },
  {
   "cell_type": "markdown",
   "metadata": {},
   "source": [
    "## Load dependencies"
   ]
  },
  {
   "cell_type": "code",
   "execution_count": null,
   "metadata": {
    "collapsed": false
   },
   "outputs": [],
   "source": [
    "require(WGCNA)\n",
    "require(dynamicTreeCut)"
   ]
  },
  {
   "cell_type": "markdown",
   "metadata": {},
   "source": [
    "## Load expression data\n",
    "This example uses synthetic expression data produced by the DREAM5 network inference effort (http://www.nature.com/nmeth/journal/v9/n8/full/nmeth.2016.html). The dataset consists of 805 arrays and 1632 genes. Sample labels (s1 through s805) were manually added. Note that the data file must reside in the same folder as the Jupyter notebook."
   ]
  },
  {
   "cell_type": "code",
   "execution_count": null,
   "metadata": {
    "collapsed": false,
    "scrolled": true
   },
   "outputs": [],
   "source": [
    "dataFile <- \"DREAM5_GeneExpressionNetwork1SilicoData.tsv\"\n",
    "datExpr <- read.table(dataFile, sep=\"\\t\", row.names=1, header=T)\n",
    "\n",
    "# Transpose data frame\n",
    "t_datExpr <- t(datExpr)\n",
    "\n",
    "# Preview expression data frame - check that genes are in columns and \n",
    "# samples in rows\n",
    "head(t_datExpr)"
   ]
  },
  {
   "cell_type": "markdown",
   "metadata": {},
   "source": [
    "## Set WGCNA parameters"
   ]
  },
  {
   "cell_type": "code",
   "execution_count": null,
   "metadata": {
    "collapsed": false
   },
   "outputs": [],
   "source": [
    "beta <- c(3, 4)\n",
    "beta <- c(4)\n",
    "networkType <- \"signed\"\n",
    "tomType <- \"signed\"\n",
    "mergeCutHeight <- 0.15\n",
    "\n",
    "# housekeeping parameter for directory creation\n",
    "DATA_FILE_PATH = './'"
   ]
  },
  {
   "cell_type": "markdown",
   "metadata": {},
   "source": [
    "## Run WGCNA"
   ]
  },
  {
   "cell_type": "code",
   "execution_count": null,
   "metadata": {
    "collapsed": false,
    "scrolled": true
   },
   "outputs": [],
   "source": [
    "for (b in beta) {\n",
    "    \n",
    "    print(\"LOG: Starting WGCNA\")\n",
    "\n",
    "    power <- b\n",
    "    dset <- paste(\"synthetic\", b, sep=\"_p\")\n",
    "    \n",
    "    # create output subdirectories\n",
    "    subDir <- paste(\"output\", dset, sep=\"_\")\n",
    "    ifelse(!dir.exists(file.path(DATA_FILE_PATH, subDir)), dir.create(file.path(DATA_FILE_PATH, subDir)), FALSE)\n",
    "    dset <-paste(subDir, dset, sep=\"/\")\n",
    "\n",
    "    ## dissimilarity matrix\n",
    "    simMatrix <- NULL\n",
    "\n",
    "    simMatrix <- TOMsimilarityFromExpr(t_datExpr, networkType=networkType, power=power)\n",
    "\n",
    "    collectGarbage() ## WGCNA garbage collection\n",
    "\n",
    "    row.names(simMatrix) <- row.names(datExpr)\n",
    "    colnames(simMatrix) <- row.names(datExpr)\n",
    "\n",
    "    dissMatrix <- 1 - simMatrix\n",
    "\n",
    "    ## cluster\n",
    "    geneTree <- hclust(as.dist(dissMatrix))\n",
    "\n",
    "    ## isolate modules by cutting the dendrogram\n",
    "\n",
    "    modules <- cutreeDynamic(geneTree, distM=dissMatrix)\n",
    "\n",
    "    collectGarbage() ## WGCNA garbage collection\n",
    "\n",
    "    modules <- labels2colors(modules) ## assign colors to modules\n",
    "\n",
    "    ## calculate eigengenes\n",
    "    ME <- moduleEigengenes(t_datExpr, colors=modules)\n",
    "    eigengenes <- ME$eigengenes\n",
    "\n",
    "    ## merge close modules\n",
    "    merge <- mergeCloseModules(\n",
    "        t_datExpr, \n",
    "        modules, \n",
    "        cutHeight = mergeCutHeight, \n",
    "        verbose = 1\n",
    "    )\n",
    "    modules.merged <- merge$colors\n",
    "    eigengenes.merged <- merge$newMEs\n",
    "\n",
    "    collectGarbage() ## WGCNA garbage collection\n",
    "\n",
    "    ## Plot merged eigengene network\n",
    "    print(\"LOG: Saving merged eigengene network...\")\n",
    "    png(paste(dset, \"standard-eigengene-network.png\", sep=\"-\"))\n",
    "    plotEigengeneNetworks(\n",
    "        eigengenes.merged, \n",
    "        paste(\"Eigengene Network:\",\n",
    "        dset)\n",
    "    )\n",
    "    dev.off()\n",
    "\n",
    "    ## Plot dendrogram with colors\n",
    "    print(\"LOG: Saving dendogram...\")\n",
    "    png(paste(dset, \"dendrogram.png\", sep=\"-\"))\n",
    "    plotDendroAndColors(\n",
    "        geneTree, \n",
    "        cbind(modules, modules.merged), \n",
    "        c(\"Modules\", \"After Merge\"), \n",
    "        dendroLabels = FALSE, \n",
    "        hang = 0.03, \n",
    "        addGuide = TRUE, \n",
    "        guideHang = 0.05, \n",
    "        main=paste(dset, \"module assignments\")\n",
    "    )\n",
    "    dev.off()\n",
    "\n",
    "    collectGarbage()\n",
    "\n",
    "    ## Write module membership\n",
    "    print(\"LOG: Saving module membership...\")\n",
    "    membership <- data.frame(modules=modules, merged_modules=modules.merged, row.names = row.names(datExpr))\n",
    "    write.table(membership, paste(dset, \"membership.txt\", sep=\"-\"), sep=\"\\t\", quote=F)\n",
    "\n",
    "    ## save image\n",
    "    print(\"LOG: Saving workspace...\")\n",
    "    save.image(paste(dset, \".RData.gz\", sep=\"\"), compress=\"gzip\")\n",
    "    \n",
    "    print(\"LOG: Finished\")\n",
    "    print(\"------------------------------------------------------\")\n",
    "\n",
    "}\n"
   ]
  },
  {
   "cell_type": "markdown",
   "metadata": {},
   "source": [
    "## Results\n",
    "\n",
    "See the output directory for all output. Plots are also shown below:"
   ]
  },
  {
   "cell_type": "code",
   "execution_count": null,
   "metadata": {
    "collapsed": false
   },
   "outputs": [],
   "source": [
    "library(\"IRdisplay\")\n",
    "\n",
    "dendogram_png <- paste(dset, \"dendrogram.png\", sep=\"-\")\n",
    "display_png(file=dendogram_png)\n",
    "\n",
    "dendogram_png <- paste(dset, \"standard-eigengene-network.png\", sep=\"-\")\n",
    "display_png(file=dendogram_png)  "
   ]
  }
 ],
 "metadata": {
  "kernelspec": {
   "display_name": "R",
   "language": "R",
   "name": "ir"
  },
  "language_info": {
   "codemirror_mode": "r",
   "file_extension": ".r",
   "mimetype": "text/x-r-source",
   "name": "R",
   "pygments_lexer": "r",
   "version": "3.3.2"
  }
 },
 "nbformat": 4,
 "nbformat_minor": 2
}
